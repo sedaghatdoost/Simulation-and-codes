{
 "cells": [
  {
   "cell_type": "code",
   "execution_count": 14,
   "id": "e8db9b09-dadb-4b1c-880f-211330746b46",
   "metadata": {},
   "outputs": [
    {
     "ename": "TypeError",
     "evalue": "Cannot cast array data from dtype('int64') to dtype('int32') according to the rule 'safe'",
     "output_type": "error",
     "traceback": [
      "\u001b[0;31m---------------------------------------------------------------------------\u001b[0m",
      "\u001b[0;31mTypeError\u001b[0m                                 Traceback (most recent call last)",
      "Cell \u001b[0;32mIn[14], line 54\u001b[0m\n\u001b[1;32m     51\u001b[0m model\u001b[38;5;241m.\u001b[39mfit(X_train, y_train)\n\u001b[1;32m     53\u001b[0m \u001b[38;5;66;03m# Use SHAP TreeExplainer\u001b[39;00m\n\u001b[0;32m---> 54\u001b[0m explainer \u001b[38;5;241m=\u001b[39m shap\u001b[38;5;241m.\u001b[39mTreeExplainer(model)\n\u001b[1;32m     55\u001b[0m shap_values \u001b[38;5;241m=\u001b[39m explainer\u001b[38;5;241m.\u001b[39mshap_values(X_train)\n\u001b[1;32m     57\u001b[0m \u001b[38;5;66;03m# Generate SHAP summary plot\u001b[39;00m\n",
      "File \u001b[0;32m/opt/anaconda3/lib/python3.12/site-packages/shap/explainers/_tree.py:195\u001b[0m, in \u001b[0;36mTreeExplainer.__init__\u001b[0;34m(self, model, data, model_output, feature_perturbation, feature_names, approximate, link, linearize_link)\u001b[0m\n\u001b[1;32m    193\u001b[0m \u001b[38;5;28mself\u001b[39m\u001b[38;5;241m.\u001b[39mfeature_perturbation \u001b[38;5;241m=\u001b[39m feature_perturbation\n\u001b[1;32m    194\u001b[0m \u001b[38;5;28mself\u001b[39m\u001b[38;5;241m.\u001b[39mexpected_value \u001b[38;5;241m=\u001b[39m \u001b[38;5;28;01mNone\u001b[39;00m\n\u001b[0;32m--> 195\u001b[0m \u001b[38;5;28mself\u001b[39m\u001b[38;5;241m.\u001b[39mmodel \u001b[38;5;241m=\u001b[39m TreeEnsemble(model, \u001b[38;5;28mself\u001b[39m\u001b[38;5;241m.\u001b[39mdata, \u001b[38;5;28mself\u001b[39m\u001b[38;5;241m.\u001b[39mdata_missing, model_output)\n\u001b[1;32m    196\u001b[0m \u001b[38;5;28mself\u001b[39m\u001b[38;5;241m.\u001b[39mmodel_output \u001b[38;5;241m=\u001b[39m model_output\n\u001b[1;32m    197\u001b[0m \u001b[38;5;66;03m#self.model_output = self.model.model_output # this allows the TreeEnsemble to translate model outputs types by how it loads the model\u001b[39;00m\n",
      "File \u001b[0;32m/opt/anaconda3/lib/python3.12/site-packages/shap/explainers/_tree.py:778\u001b[0m, in \u001b[0;36mTreeEnsemble.__init__\u001b[0;34m(self, model, data, data_missing, model_output)\u001b[0m\n\u001b[1;32m    776\u001b[0m \u001b[38;5;28mself\u001b[39m\u001b[38;5;241m.\u001b[39minput_dtype \u001b[38;5;241m=\u001b[39m \u001b[38;5;28mfloat\u001b[39m\n\u001b[1;32m    777\u001b[0m scaling \u001b[38;5;241m=\u001b[39m \u001b[38;5;241m1.0\u001b[39m \u001b[38;5;241m/\u001b[39m \u001b[38;5;28mlen\u001b[39m(model\u001b[38;5;241m.\u001b[39mestimators_) \u001b[38;5;66;03m# output is average of trees\u001b[39;00m\n\u001b[0;32m--> 778\u001b[0m \u001b[38;5;28mself\u001b[39m\u001b[38;5;241m.\u001b[39mtrees \u001b[38;5;241m=\u001b[39m [SingleTree(e\u001b[38;5;241m.\u001b[39mtree_, scaling\u001b[38;5;241m=\u001b[39mscaling, data\u001b[38;5;241m=\u001b[39mdata, data_missing\u001b[38;5;241m=\u001b[39mdata_missing) \u001b[38;5;28;01mfor\u001b[39;00m e \u001b[38;5;129;01min\u001b[39;00m model\u001b[38;5;241m.\u001b[39mestimators_]\n\u001b[1;32m    779\u001b[0m \u001b[38;5;28mself\u001b[39m\u001b[38;5;241m.\u001b[39mobjective \u001b[38;5;241m=\u001b[39m objective_name_map\u001b[38;5;241m.\u001b[39mget(model\u001b[38;5;241m.\u001b[39mcriterion, \u001b[38;5;28;01mNone\u001b[39;00m)\n\u001b[1;32m    780\u001b[0m \u001b[38;5;28mself\u001b[39m\u001b[38;5;241m.\u001b[39mtree_output \u001b[38;5;241m=\u001b[39m \u001b[38;5;124m\"\u001b[39m\u001b[38;5;124mraw_value\u001b[39m\u001b[38;5;124m\"\u001b[39m\n",
      "File \u001b[0;32m/opt/anaconda3/lib/python3.12/site-packages/shap/explainers/_tree.py:1729\u001b[0m, in \u001b[0;36mSingleTree.__init__\u001b[0;34m(self, tree, normalize, scaling, data, data_missing)\u001b[0m\n\u001b[1;32m   1723\u001b[0m     _cext\u001b[38;5;241m.\u001b[39mdense_tree_update_weights(\n\u001b[1;32m   1724\u001b[0m         \u001b[38;5;28mself\u001b[39m\u001b[38;5;241m.\u001b[39mchildren_left, \u001b[38;5;28mself\u001b[39m\u001b[38;5;241m.\u001b[39mchildren_right, \u001b[38;5;28mself\u001b[39m\u001b[38;5;241m.\u001b[39mchildren_default, \u001b[38;5;28mself\u001b[39m\u001b[38;5;241m.\u001b[39mfeatures,\n\u001b[1;32m   1725\u001b[0m         \u001b[38;5;28mself\u001b[39m\u001b[38;5;241m.\u001b[39mthresholds, \u001b[38;5;28mself\u001b[39m\u001b[38;5;241m.\u001b[39mvalues, \u001b[38;5;241m1\u001b[39m, \u001b[38;5;28mself\u001b[39m\u001b[38;5;241m.\u001b[39mnode_sample_weight, data, data_missing\n\u001b[1;32m   1726\u001b[0m     )\n\u001b[1;32m   1728\u001b[0m \u001b[38;5;66;03m# we compute the expectations to make sure they follow the SHAP logic\u001b[39;00m\n\u001b[0;32m-> 1729\u001b[0m \u001b[38;5;28mself\u001b[39m\u001b[38;5;241m.\u001b[39mmax_depth \u001b[38;5;241m=\u001b[39m _cext\u001b[38;5;241m.\u001b[39mcompute_expectations(\n\u001b[1;32m   1730\u001b[0m     \u001b[38;5;28mself\u001b[39m\u001b[38;5;241m.\u001b[39mchildren_left, \u001b[38;5;28mself\u001b[39m\u001b[38;5;241m.\u001b[39mchildren_right, \u001b[38;5;28mself\u001b[39m\u001b[38;5;241m.\u001b[39mnode_sample_weight,\n\u001b[1;32m   1731\u001b[0m     \u001b[38;5;28mself\u001b[39m\u001b[38;5;241m.\u001b[39mvalues\n\u001b[1;32m   1732\u001b[0m )\n",
      "\u001b[0;31mTypeError\u001b[0m: Cannot cast array data from dtype('int64') to dtype('int32') according to the rule 'safe'"
     ]
    }
   ],
   "source": [
    "import pandas as pd\n",
    "import shap\n",
    "from sklearn.ensemble import RandomForestRegressor\n",
    "from sklearn.model_selection import train_test_split\n",
    "import matplotlib.pyplot as plt\n",
    "\n",
    "# Load the dataset\n",
    "file_path = '/Users/amirsedaghatdoost/Library/CloudStorage/OneDrive-TexasA&MUniversity/Papers/Paper01/Analysis_2/Average depthwise properties.csv'\n",
    "data = pd.read_csv(file_path)\n",
    "\n",
    "# Define target variables and predictors, excluding unwanted variables\n",
    "excluded_variables = ['Site', 'Hm', 'Sigma', 'EC', 'Ca', 'Mg', 'K', 'Mn', 'Zn']\n",
    "target_variables = ['DOC', 'DON', 'NO3', 'NH4', 'Fe(II)', 'Fe(III)', 'Mn (IV)', 'SO4']\n",
    "predictors = data.drop(columns=target_variables + excluded_variables)\n",
    "\n",
    "# Convert all columns to float32 for compatibility\n",
    "predictors = predictors.astype('float32')\n",
    "data[target_variables] = data[target_variables].astype('float32')\n",
    "\n",
    "# Map predictor names to their updated versions\n",
    "updated_names = {\n",
    "    \"Feox\": \"Fe$_{ox}$\",\n",
    "    \"Theta\": \"Soil moisture\",\n",
    "    \"Ks\": \"K$_{s}$\",\n",
    "    \"Bulk Density\": \"bulk density\",\n",
    "    \"Alox\": \"Al$_{ox}$\",\n",
    "    \"ThetaS\": \"Ɵ$_{s}$\",\n",
    "    \"ThetaR\": \"Ɵ$_{r}$\",\n",
    "    \"Alpha\": \"α\",\n",
    "    \"DOC\": \"DOC\",\n",
    "    \"DON\": \"DON\",\n",
    "    \"NO3\": \"NO$_{3}$\",\n",
    "    \"NH4\": \"NH$_{4}$\",\n",
    "    \"Mn (IV)\": \"Mn(III)\",\n",
    "    \"SO4\": \"SO$_{4}$\"\n",
    "}\n",
    "predictor_names_updated = [updated_names.get(name, name) for name in predictors.columns]\n",
    "\n",
    "# Convert predictors to NumPy array\n",
    "X = predictors.to_numpy()\n",
    "\n",
    "# SHAP analysis for each target variable\n",
    "for target in target_variables:\n",
    "    y = data[target].values\n",
    "\n",
    "    # Train-test split\n",
    "    X_train, X_test, y_train, y_test = train_test_split(X, y, test_size=0.2, random_state=42)\n",
    "\n",
    "    # Train a Random Forest Regressor\n",
    "    model = RandomForestRegressor(n_estimators=100, random_state=42)\n",
    "    model.fit(X_train, y_train)\n",
    "\n",
    "    # Use SHAP TreeExplainer\n",
    "    explainer = shap.TreeExplainer(model)\n",
    "    shap_values = explainer.shap_values(X_train)\n",
    "\n",
    "    # Generate SHAP summary plot\n",
    "    plt.figure(figsize=(10, 6))\n",
    "    shap.summary_plot(shap_values, X_train, feature_names=predictor_names_updated, show=False)\n",
    "    plt.title(f\"SHAP Summary Plot for {updated_names.get(target, target)}\", fontsize=14)\n",
    "    plt.xlabel(\"SHAP value\", fontsize=12)\n",
    "    plt.tight_layout()\n",
    "    plt.show()\n"
   ]
  },
  {
   "cell_type": "code",
   "execution_count": null,
   "id": "0d20c3d0-5f16-421e-a495-ae5b33f2f05a",
   "metadata": {},
   "outputs": [],
   "source": []
  }
 ],
 "metadata": {
  "kernelspec": {
   "display_name": "Python 3 (ipykernel)",
   "language": "python",
   "name": "python3"
  },
  "language_info": {
   "codemirror_mode": {
    "name": "ipython",
    "version": 3
   },
   "file_extension": ".py",
   "mimetype": "text/x-python",
   "name": "python",
   "nbconvert_exporter": "python",
   "pygments_lexer": "ipython3",
   "version": "3.12.4"
  }
 },
 "nbformat": 4,
 "nbformat_minor": 5
}
