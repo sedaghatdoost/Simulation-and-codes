{
 "cells": [
  {
   "cell_type": "code",
   "execution_count": null,
   "id": "56ab67f3-ff4a-47c0-99ff-712c43dcee2f",
   "metadata": {},
   "outputs": [],
   "source": [
    "import matplotlib.pyplot as plt\n",
    "import seaborn as sns\n",
    "\n",
    "# Mapping of variables to their updated names\n",
    "updated_names = {\n",
    "    \"Feox\": \"Fe$_{ox}$\",\n",
    "    \"Theta\": \"Soil moisture\",\n",
    "    \"Ks\": \"K$_{s}$\",\n",
    "    \"Bulk Density\": \"bulk density\",\n",
    "    \"Alox\": \"Al$_{ox}$\",\n",
    "    \"ThetaS\": \"Ɵ$_{s}$\",\n",
    "    \"Sigma\": \"σ\",\n",
    "    \"Hm\": \"H$_{m}$\",\n",
    "    \"ThetaR\": \"Ɵ$_{r}$\",\n",
    "    \"Alpha\": \"α\",\n",
    "    \"DOC\": \"DOC\",\n",
    "    \"DON\": \"DON\",\n",
    "    \"NO3\": \"NO$_{3}$\",\n",
    "    \"NH4\": \"NH$_{4}$\",\n",
    "    \"Mn (IV)\": \"Mn(III)\",\n",
    "    \"SO4\": \"SO$_{4}$\"\n",
    "}\n",
    "\n",
    "# Ensure only numeric columns are used and update variable names\n",
    "numeric_data = data.select_dtypes(include=[np.number])\n",
    "numeric_data_renamed = numeric_data.rename(columns=updated_names)\n",
    "\n",
    "# Calculate the Spearman correlation matrix with updated names\n",
    "correlation_matrix_updated = numeric_data_renamed.corr(method='spearman')\n",
    "\n",
    "# Create the updated correlation heatmap\n",
    "plt.figure(figsize=(12, 10))\n",
    "sns.heatmap(correlation_matrix_updated, annot=False, cmap=\"coolwarm\", center=0, \n",
    "            square=True, cbar_kws={'shrink': 0.8}, linewidths=0.5)\n",
    "plt.title(\"Spearman Correlation Heatmap\", fontsize=16)\n",
    "plt.tight_layout()\n",
    "plt.show()\n"
   ]
  }
 ],
 "metadata": {
  "kernelspec": {
   "display_name": "Python 3 (ipykernel)",
   "language": "python",
   "name": "python3"
  },
  "language_info": {
   "codemirror_mode": {
    "name": "ipython",
    "version": 3
   },
   "file_extension": ".py",
   "mimetype": "text/x-python",
   "name": "python",
   "nbconvert_exporter": "python",
   "pygments_lexer": "ipython3",
   "version": "3.12.4"
  }
 },
 "nbformat": 4,
 "nbformat_minor": 5
}
