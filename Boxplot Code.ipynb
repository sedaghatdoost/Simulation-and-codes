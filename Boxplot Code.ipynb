{
 "cells": [
  {
   "cell_type": "code",
   "execution_count": null,
   "id": "1cb51157-1e95-4ee2-91d0-55ccdd8439e3",
   "metadata": {},
   "outputs": [],
   "source": [
    "import matplotlib.pyplot as plt\n",
    "import seaborn as sns\n",
    "\n",
    "# Updated units for variables\n",
    "variable_units = {\n",
    "    \"Clay\": \"(%)\",\n",
    "    \"Silt\": \"(%)\",\n",
    "    \"Sand\": \"(%)\",\n",
    "    \"bulk density\": \"(g/cm³)\",\n",
    "    \"Soil moisture\": \"(cm³/cm³)\",\n",
    "    \"Ɵ$_{s}$\": \"(cm³/cm³)\",\n",
    "    \"α\": \"(1/cm)\",\n",
    "    \"K$_{s}$\": \"(cm/day)\",\n",
    "    \"pH\": \"(-)\",\n",
    "    \"H$_{m}$\": \"(cm)\",\n",
    "    \"Macropores\": \"(-)\",\n",
    "    \"Effective Porosity\": \"(-)\",\n",
    "    \"SH\": \"(-)\",\n",
    "    \"σ\": \"(-)\",\n",
    "    \"n\": \"(-)\"\n",
    "}\n",
    "\n",
    "# Create box plots without titles\n",
    "for property_name in data_renamed.columns.difference(['Depth', 'Site']):\n",
    "    unit = variable_units.get(property_name, \"(mg/kg)\")  # Default to mg/kg if no unit is defined\n",
    "    plt.figure(figsize=(8, 6))\n",
    "    sns.boxplot(data=data_renamed, x=property_name, y='Site', palette=\"Set3\")\n",
    "    plt.xlabel(f\"{property_name} {unit}\", fontsize=12)\n",
    "    plt.ylabel(\"Site\", fontsize=12)\n",
    "    plt.tight_layout()\n",
    "    plt.show()\n"
   ]
  }
 ],
 "metadata": {
  "kernelspec": {
   "display_name": "Python 3 (ipykernel)",
   "language": "python",
   "name": "python3"
  },
  "language_info": {
   "codemirror_mode": {
    "name": "ipython",
    "version": 3
   },
   "file_extension": ".py",
   "mimetype": "text/x-python",
   "name": "python",
   "nbconvert_exporter": "python",
   "pygments_lexer": "ipython3",
   "version": "3.12.4"
  }
 },
 "nbformat": 4,
 "nbformat_minor": 5
}
